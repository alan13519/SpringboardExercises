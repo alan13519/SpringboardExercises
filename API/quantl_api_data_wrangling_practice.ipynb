{
 "cells": [
  {
   "cell_type": "markdown",
   "metadata": {},
   "source": [
    "# In this project, we will be using data from the Qunadl API\n",
    "## This will be a practice of normal collection type objects + the API, so I will not be using the pandas library."
   ]
  },
  {
   "cell_type": "code",
   "execution_count": 1,
   "metadata": {},
   "outputs": [],
   "source": [
    "#Unique API key\n",
    "API_KEY = 'XXXXXXXXXX'"
   ]
  },
  {
   "cell_type": "code",
   "execution_count": 2,
   "metadata": {},
   "outputs": [],
   "source": [
    "# Import the relevant modules\n",
    "import requests\n",
    "import json"
   ]
  },
  {
   "cell_type": "code",
   "execution_count": 3,
   "metadata": {},
   "outputs": [],
   "source": [
    "#Year of 2017\n",
    "begin_2017 = '2017-01-01'\n",
    "end_2017 = '2017-12-31'\n",
    "URL = f'https://www.quandl.com/api/v3/datasets/FSE/AFX_X?start_date={begin_2017}&end_date={end_2017}&api_key={API_KEY}'\n",
    "r = requests.get(URL)"
   ]
  },
  {
   "cell_type": "code",
   "execution_count": 4,
   "metadata": {},
   "outputs": [],
   "source": [
    "#Conversion of json to dictionary\n",
    "czm_dict = dict(r.json()['dataset'])"
   ]
  },
  {
   "cell_type": "code",
   "execution_count": 5,
   "metadata": {},
   "outputs": [
    {
     "data": {
      "text/plain": [
       "['Date',\n",
       " 'Open',\n",
       " 'High',\n",
       " 'Low',\n",
       " 'Close',\n",
       " 'Change',\n",
       " 'Traded Volume',\n",
       " 'Turnover',\n",
       " 'Last Price of the Day',\n",
       " 'Daily Traded Units',\n",
       " 'Daily Turnover']"
      ]
     },
     "execution_count": 5,
     "metadata": {},
     "output_type": "execute_result"
    }
   ],
   "source": [
    "czm_dict['column_names']"
   ]
  },
  {
   "cell_type": "code",
   "execution_count": 6,
   "metadata": {},
   "outputs": [
    {
     "data": {
      "text/plain": [
       "list"
      ]
     },
     "execution_count": 6,
     "metadata": {},
     "output_type": "execute_result"
    }
   ],
   "source": [
    "#we will be working with daily data, which has the info of the above columns\n",
    "type(czm_dict['data'])"
   ]
  },
  {
   "cell_type": "code",
   "execution_count": 7,
   "metadata": {
    "scrolled": true
   },
   "outputs": [
    {
     "name": "stdout",
     "output_type": "stream",
     "text": [
      "The highest opening price is 53.54.\n",
      "The lowest opening price is 33.62.\n"
     ]
    }
   ],
   "source": [
    "#We'll check the highest and lowest opening prices using the 2nd and 3rd columns\n",
    "stock_data = czm_dict['data']\n",
    "print(\"The highest opening price is \" + str(max([row[2] for row in stock_data])) + \".\")\n",
    "print(\"The lowest opening price is \" + str(min([row[3] for row in stock_data])) + \".\")"
   ]
  },
  {
   "cell_type": "code",
   "execution_count": 8,
   "metadata": {},
   "outputs": [
    {
     "name": "stdout",
     "output_type": "stream",
     "text": [
      "2017-05-11 has the highest daily change.\n"
     ]
    }
   ],
   "source": [
    "#The days that have the max daily changes\n",
    "daily_changes = [abs(row[2] - row[3]) for row in stock_data]\n",
    "max_daily_changes = max(daily_changes)\n",
    "indexes_of_max_daily_changes = [i for i, j in enumerate(daily_changes) if j == max_daily_changes]\n",
    "\n",
    "#The highest daily change (Date is on first column)\n",
    "for i in indexes_of_max_daily_changes:\n",
    "    print(stock_data[i][0] + \" has the highest daily change.\")"
   ]
  },
  {
   "cell_type": "code",
   "execution_count": 9,
   "metadata": {},
   "outputs": [
    {
     "name": "stdout",
     "output_type": "stream",
     "text": [
      "2017-08-08 to 2017-08-09 has the highest change.\n"
     ]
    }
   ],
   "source": [
    "#The days that have the highest changes from the previous day\n",
    "changes_btwn_two_days = [abs(stock_data[i+1][4]-stock_data[i][4]) for i in range(len(stock_data) - 1)]\n",
    "max_two_day_chg = max(changes_btwn_two_days)\n",
    "indexes_of_two_day_chg = [i for i, j in enumerate(changes_btwn_two_days) if j == max_two_day_chg]\n",
    "\n",
    "#The highest daily change between two days(Based on closing prices)\n",
    "for i in indexes_of_two_day_chg:\n",
    "    print(stock_data[i+1][0] + \" to \" + stock_data[i][0] + \" has the highest change.\")"
   ]
  },
  {
   "cell_type": "code",
   "execution_count": 10,
   "metadata": {},
   "outputs": [
    {
     "name": "stdout",
     "output_type": "stream",
     "text": [
      "The average daily trading volume is 89124.33725490196.\n"
     ]
    }
   ],
   "source": [
    "#Check the average trading volume \n",
    "trading_vols = [i[6] for i in stock_data]\n",
    "avg_vols = sum(trading_vols)/len(trading_vols)\n",
    "print(\"The average daily trading volume is \" + str(avg_vols) + \".\")"
   ]
  },
  {
   "cell_type": "code",
   "execution_count": 11,
   "metadata": {},
   "outputs": [],
   "source": [
    "#Median function\n",
    "def findMedian(list_of_values):\n",
    "    #Error handling\n",
    "    if(type(list_of_values) != list): raise TypeError(\"Argument must be a list\")\n",
    "    elif(len(list_of_values) == 0): raise ValueError(\"List is empty\")\n",
    "    elif(len(list_of_values) == 1): return list_of_values[0]\n",
    "    #Sort list and find median\n",
    "    sorted_list = sorted(list_of_values)\n",
    "    #If length of list is odd\n",
    "    if(len(list_of_values)%2 == 1): return sorted_list[int(len(list_of_values)/2)]\n",
    "    #If length of list is even\n",
    "    else: return (sorted_list[int(len(list_of_values)/2)] \n",
    "                  + sorted_list[int((len(list_of_values)/2) + 1)]/2)\n"
   ]
  },
  {
   "cell_type": "code",
   "execution_count": 13,
   "metadata": {},
   "outputs": [
    {
     "name": "stdout",
     "output_type": "stream",
     "text": [
      "The median daily trading volume is 76286.0.\n"
     ]
    }
   ],
   "source": [
    "#Print out median\n",
    "print(\"The median daily trading volume is \" + str(findMedian(trading_vols)) + \".\")"
   ]
  }
 ],
 "metadata": {
  "kernelspec": {
   "display_name": "Python 3",
   "language": "python",
   "name": "python3"
  },
  "language_info": {
   "codemirror_mode": {
    "name": "ipython",
    "version": 3
   },
   "file_extension": ".py",
   "mimetype": "text/x-python",
   "name": "python",
   "nbconvert_exporter": "python",
   "pygments_lexer": "ipython3",
   "version": "3.6.5"
  }
 },
 "nbformat": 4,
 "nbformat_minor": 2
}
